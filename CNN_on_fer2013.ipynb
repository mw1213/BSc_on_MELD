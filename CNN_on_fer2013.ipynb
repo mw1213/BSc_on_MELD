{
 "cells": [
  {
   "cell_type": "code",
   "execution_count": 13,
   "metadata": {},
   "outputs": [],
   "source": [
    "import pandas as pd\n",
    "import numpy as np\n",
    "from keras.models import Sequential\n",
    "from keras.utils import np_utils\n",
    "from keras.layers.core import Flatten, Dense, Dropout\n",
    "from keras.layers.convolutional import Convolution2D, MaxPooling2D, ZeroPadding2D\n",
    "from keras.optimizers import SGD\n",
    "import cv2"
   ]
  },
  {
   "cell_type": "code",
   "execution_count": 5,
   "metadata": {},
   "outputs": [
    {
     "name": "stdout",
     "output_type": "stream",
     "text": [
      "       emotion                                             pixels        Usage\n",
      "0            0  70 80 82 72 58 58 60 63 54 58 60 48 89 115 121...     Training\n",
      "1            0  151 150 147 155 148 133 111 140 170 174 182 15...     Training\n",
      "2            2  231 212 156 164 174 138 161 173 182 200 106 38...     Training\n",
      "3            4  24 32 36 30 32 23 19 20 30 41 21 22 32 34 21 1...     Training\n",
      "4            6  4 0 0 0 0 0 0 0 0 0 0 0 3 15 23 28 48 50 58 84...     Training\n",
      "...        ...                                                ...          ...\n",
      "35882        6  50 36 17 22 23 29 33 39 34 37 37 37 39 43 48 5...  PrivateTest\n",
      "35883        3  178 174 172 173 181 188 191 194 196 199 200 20...  PrivateTest\n",
      "35884        0  17 17 16 23 28 22 19 17 25 26 20 24 31 19 27 9...  PrivateTest\n",
      "35885        3  30 28 28 29 31 30 42 68 79 81 77 67 67 71 63 6...  PrivateTest\n",
      "35886        2  19 13 14 12 13 16 21 33 50 57 71 84 97 108 122...  PrivateTest\n",
      "\n",
      "[35887 rows x 3 columns]\n"
     ]
    }
   ],
   "source": [
    "emotion_data = pd.read_csv('fer2013.csv')\n",
    "print(emotion_data)"
   ]
  },
  {
   "cell_type": "code",
   "execution_count": 8,
   "metadata": {},
   "outputs": [],
   "source": [
    "X_train = []\n",
    "y_train = []\n",
    "X_test = []\n",
    "y_test = []\n",
    "for index, row in emotion_data.iterrows():\n",
    "  k = row['pixels'].split(\" \")\n",
    "  if row['Usage'] == 'Training':\n",
    "    X_train.append(np.array(k))\n",
    "    y_train.append(row['emotion'])\n",
    "  elif row['Usage'] == 'PublicTest':\n",
    "    X_test.append(np.array(k))\n",
    "    y_test.append(row['emotion'])"
   ]
  },
  {
   "cell_type": "code",
   "execution_count": 14,
   "metadata": {},
   "outputs": [],
   "source": [
    "X_train = np.array(X_train)\n",
    "y_train = np.array(y_train)\n",
    "X_test = np.array(X_test)\n",
    "y_test = np.array(y_test)\n",
    "\n",
    "X_train = X_train.reshape(X_train.shape[0], 48, 48, 1)\n",
    "X_test = X_test.reshape(X_test.shape[0], 48, 48, 1)\n",
    "\n",
    "y_train= np_utils.to_categorical(y_train, num_classes=7)\n",
    "y_test = np_utils.to_categorical(y_test, num_classes=7)"
   ]
  },
  {
   "cell_type": "code",
   "execution_count": 15,
   "metadata": {},
   "outputs": [
    {
     "name": "stderr",
     "output_type": "stream",
     "text": [
      "c:\\users\\maciej wilk\\appdata\\local\\programs\\python\\python37\\lib\\site-packages\\ipykernel_launcher.py:3: UserWarning: Update your `Conv2D` call to the Keras 2 API: `Conv2D(64, (3, 3), activation=\"relu\")`\n",
      "  This is separate from the ipykernel package so we can avoid doing imports until\n",
      "c:\\users\\maciej wilk\\appdata\\local\\programs\\python\\python37\\lib\\site-packages\\ipykernel_launcher.py:5: UserWarning: Update your `Conv2D` call to the Keras 2 API: `Conv2D(64, (3, 3), activation=\"relu\")`\n",
      "  \"\"\"\n",
      "c:\\users\\maciej wilk\\appdata\\local\\programs\\python\\python37\\lib\\site-packages\\ipykernel_launcher.py:9: UserWarning: Update your `Conv2D` call to the Keras 2 API: `Conv2D(128, (3, 3), activation=\"relu\")`\n",
      "  if __name__ == '__main__':\n",
      "c:\\users\\maciej wilk\\appdata\\local\\programs\\python\\python37\\lib\\site-packages\\ipykernel_launcher.py:11: UserWarning: Update your `Conv2D` call to the Keras 2 API: `Conv2D(128, (3, 3), activation=\"relu\")`\n",
      "  # This is added back by InteractiveShellApp.init_path()\n",
      "c:\\users\\maciej wilk\\appdata\\local\\programs\\python\\python37\\lib\\site-packages\\ipykernel_launcher.py:15: UserWarning: Update your `Conv2D` call to the Keras 2 API: `Conv2D(256, (3, 3), activation=\"relu\")`\n",
      "  from ipykernel import kernelapp as app\n",
      "c:\\users\\maciej wilk\\appdata\\local\\programs\\python\\python37\\lib\\site-packages\\ipykernel_launcher.py:17: UserWarning: Update your `Conv2D` call to the Keras 2 API: `Conv2D(256, (3, 3), activation=\"relu\")`\n",
      "c:\\users\\maciej wilk\\appdata\\local\\programs\\python\\python37\\lib\\site-packages\\ipykernel_launcher.py:19: UserWarning: Update your `Conv2D` call to the Keras 2 API: `Conv2D(256, (3, 3), activation=\"relu\")`\n",
      "c:\\users\\maciej wilk\\appdata\\local\\programs\\python\\python37\\lib\\site-packages\\ipykernel_launcher.py:23: UserWarning: Update your `Conv2D` call to the Keras 2 API: `Conv2D(512, (3, 3), activation=\"relu\")`\n",
      "c:\\users\\maciej wilk\\appdata\\local\\programs\\python\\python37\\lib\\site-packages\\ipykernel_launcher.py:25: UserWarning: Update your `Conv2D` call to the Keras 2 API: `Conv2D(512, (3, 3), activation=\"relu\")`\n",
      "c:\\users\\maciej wilk\\appdata\\local\\programs\\python\\python37\\lib\\site-packages\\ipykernel_launcher.py:27: UserWarning: Update your `Conv2D` call to the Keras 2 API: `Conv2D(512, (3, 3), activation=\"relu\")`\n",
      "c:\\users\\maciej wilk\\appdata\\local\\programs\\python\\python37\\lib\\site-packages\\ipykernel_launcher.py:32: UserWarning: Update your `Conv2D` call to the Keras 2 API: `Conv2D(512, (3, 3), activation=\"relu\")`\n",
      "c:\\users\\maciej wilk\\appdata\\local\\programs\\python\\python37\\lib\\site-packages\\ipykernel_launcher.py:34: UserWarning: Update your `Conv2D` call to the Keras 2 API: `Conv2D(512, (3, 3), activation=\"relu\")`\n",
      "c:\\users\\maciej wilk\\appdata\\local\\programs\\python\\python37\\lib\\site-packages\\ipykernel_launcher.py:36: UserWarning: Update your `Conv2D` call to the Keras 2 API: `Conv2D(512, (3, 3), activation=\"relu\")`\n"
     ]
    }
   ],
   "source": [
    "model = Sequential()\n",
    "model.add(ZeroPadding2D((1,1),input_shape=(48,48,1)))\n",
    "model.add(Convolution2D(64, 3, 3, activation='relu'))\n",
    "model.add(ZeroPadding2D((1,1)))\n",
    "model.add(Convolution2D(64, 3, 3, activation='relu'))\n",
    "model.add(MaxPooling2D((2,2), strides=(2,2)))\n",
    "\n",
    "model.add(ZeroPadding2D((1,1)))\n",
    "model.add(Convolution2D(128, 3, 3, activation='relu'))\n",
    "model.add(ZeroPadding2D((1,1)))\n",
    "model.add(Convolution2D(128, 3, 3, activation='relu'))\n",
    "model.add(MaxPooling2D((2,2), strides=(2,2)))\n",
    "\n",
    "model.add(ZeroPadding2D((1,1)))\n",
    "model.add(Convolution2D(256, 3, 3, activation='relu'))\n",
    "model.add(ZeroPadding2D((1,1)))\n",
    "model.add(Convolution2D(256, 3, 3, activation='relu'))\n",
    "model.add(ZeroPadding2D((1,1)))\n",
    "model.add(Convolution2D(256, 3, 3, activation='relu'))\n",
    "model.add(MaxPooling2D((2,2), strides=(2,2)))\n",
    "\n",
    "model.add(ZeroPadding2D((1,1)))\n",
    "model.add(Convolution2D(512, 3, 3, activation='relu'))\n",
    "model.add(ZeroPadding2D((1,1)))\n",
    "model.add(Convolution2D(512, 3, 3, activation='relu'))\n",
    "model.add(ZeroPadding2D((1,1)))\n",
    "model.add(Convolution2D(512, 3, 3, activation='relu'))\n",
    "model.add(MaxPooling2D((2,2), strides=(2,2)))\n",
    "\n",
    "\n",
    "model.add(ZeroPadding2D((1,1)))\n",
    "model.add(Convolution2D(512, 3, 3, activation='relu'))\n",
    "model.add(ZeroPadding2D((1,1)))\n",
    "model.add(Convolution2D(512, 3, 3, activation='relu'))\n",
    "model.add(ZeroPadding2D((1,1)))\n",
    "model.add(Convolution2D(512, 3, 3, activation='relu'))\n",
    "model.add(MaxPooling2D((2,2), strides=(2,2)))\n",
    "\n",
    "model.add(Flatten())\n",
    "model.add(Dense(4096, activation='relu'))\n",
    "model.add(Dropout(0.5))\n",
    "model.add(Dense(4096, activation='relu'))\n",
    "model.add(Dropout(0.5))\n",
    "model.add(Dense(7, activation='softmax'))"
   ]
  },
  {
   "cell_type": "code",
   "execution_count": 16,
   "metadata": {},
   "outputs": [],
   "source": [
    "model.compile(optimizer='sgd',loss='categorical_crossentropy',metrics=['accuracy'])"
   ]
  },
  {
   "cell_type": "code",
   "execution_count": 19,
   "metadata": {},
   "outputs": [
    {
     "name": "stdout",
     "output_type": "stream",
     "text": [
      "Train on 28709 samples, validate on 3589 samples\n",
      "Epoch 1/30\n",
      "28709/28709 [==============================] - 97s 3ms/step - loss: 1.8234 - accuracy: 0.2469 - val_loss: 1.8257 - val_accuracy: 0.2494\n",
      "Epoch 2/30\n",
      "28709/28709 [==============================] - 93s 3ms/step - loss: 1.7751 - accuracy: 0.2762 - val_loss: 1.7457 - val_accuracy: 0.3321\n",
      "Epoch 3/30\n",
      "28709/28709 [==============================] - 95s 3ms/step - loss: 1.6203 - accuracy: 0.3604 - val_loss: 1.5327 - val_accuracy: 0.4104\n",
      "Epoch 4/30\n",
      "28709/28709 [==============================] - 97s 3ms/step - loss: 1.4916 - accuracy: 0.4208 - val_loss: 1.4833 - val_accuracy: 0.4478\n",
      "Epoch 5/30\n",
      "28709/28709 [==============================] - 97s 3ms/step - loss: 1.3960 - accuracy: 0.4610 - val_loss: 1.5432 - val_accuracy: 0.4252\n",
      "Epoch 6/30\n",
      "28709/28709 [==============================] - 97s 3ms/step - loss: 1.2935 - accuracy: 0.5028 - val_loss: 1.3476 - val_accuracy: 0.4792\n",
      "Epoch 7/30\n",
      "28709/28709 [==============================] - 97s 3ms/step - loss: 1.2125 - accuracy: 0.5372 - val_loss: 1.2773 - val_accuracy: 0.5157\n",
      "Epoch 8/30\n",
      "28709/28709 [==============================] - 98s 3ms/step - loss: 1.1323 - accuracy: 0.5707 - val_loss: 2.3495 - val_accuracy: 0.3639\n",
      "Epoch 9/30\n",
      "28709/28709 [==============================] - 97s 3ms/step - loss: 1.0540 - accuracy: 0.6058 - val_loss: 1.3098 - val_accuracy: 0.5063\n",
      "Epoch 10/30\n",
      "28709/28709 [==============================] - 97s 3ms/step - loss: 0.9720 - accuracy: 0.6385 - val_loss: 1.4457 - val_accuracy: 0.5040\n",
      "Epoch 11/30\n",
      "28709/28709 [==============================] - 97s 3ms/step - loss: 0.8921 - accuracy: 0.6662 - val_loss: 1.4207 - val_accuracy: 0.4987\n",
      "Epoch 12/30\n",
      "28709/28709 [==============================] - 97s 3ms/step - loss: 0.8027 - accuracy: 0.7041 - val_loss: 2.2495 - val_accuracy: 0.3572\n",
      "Epoch 13/30\n",
      "28709/28709 [==============================] - 98s 3ms/step - loss: 0.7201 - accuracy: 0.7358 - val_loss: 1.8872 - val_accuracy: 0.4595\n",
      "Epoch 14/30\n",
      "28709/28709 [==============================] - 97s 3ms/step - loss: 0.6248 - accuracy: 0.7735 - val_loss: 1.4203 - val_accuracy: 0.5653\n",
      "Epoch 15/30\n",
      "28709/28709 [==============================] - 96s 3ms/step - loss: 0.5419 - accuracy: 0.8051 - val_loss: 1.4401 - val_accuracy: 0.5327\n",
      "Epoch 16/30\n",
      "28709/28709 [==============================] - 95s 3ms/step - loss: 0.4677 - accuracy: 0.8341 - val_loss: 1.5897 - val_accuracy: 0.5637\n",
      "Epoch 17/30\n",
      "28709/28709 [==============================] - 96s 3ms/step - loss: 0.4015 - accuracy: 0.8606 - val_loss: 2.3180 - val_accuracy: 0.5132\n",
      "Epoch 18/30\n",
      "28709/28709 [==============================] - 94s 3ms/step - loss: 0.3394 - accuracy: 0.8827 - val_loss: 1.8297 - val_accuracy: 0.5313\n",
      "Epoch 19/30\n",
      "28709/28709 [==============================] - 129s 4ms/step - loss: 0.2928 - accuracy: 0.8994 - val_loss: 1.9265 - val_accuracy: 0.5121\n",
      "Epoch 20/30\n",
      "28709/28709 [==============================] - 361s 13ms/step - loss: 0.2520 - accuracy: 0.9136 - val_loss: 1.9406 - val_accuracy: 0.5729\n",
      "Epoch 21/30\n",
      "28709/28709 [==============================] - 317s 11ms/step - loss: 0.2097 - accuracy: 0.9301 - val_loss: 2.0108 - val_accuracy: 0.5709\n",
      "Epoch 22/30\n",
      "28709/28709 [==============================] - 593s 21ms/step - loss: 0.1762 - accuracy: 0.9418 - val_loss: 3.0570 - val_accuracy: 0.4191\n",
      "Epoch 23/30\n",
      "28709/28709 [==============================] - 1971s 69ms/step - loss: 0.1824 - accuracy: 0.9402 - val_loss: 2.1463 - val_accuracy: 0.5475\n",
      "Epoch 24/30\n",
      "28709/28709 [==============================] - 2169s 76ms/step - loss: 0.1344 - accuracy: 0.9566 - val_loss: 2.2210 - val_accuracy: 0.5681\n",
      "Epoch 25/30\n",
      "28709/28709 [==============================] - 1394s 49ms/step - loss: 0.1210 - accuracy: 0.9605 - val_loss: 2.8562 - val_accuracy: 0.4948\n",
      "Epoch 26/30\n",
      "28709/28709 [==============================] - 479s 17ms/step - loss: 0.1245 - accuracy: 0.9620 - val_loss: 2.4626 - val_accuracy: 0.5918\n",
      "Epoch 27/30\n",
      "28709/28709 [==============================] - 106s 4ms/step - loss: 0.0823 - accuracy: 0.9736 - val_loss: 2.5993 - val_accuracy: 0.5737\n",
      "Epoch 28/30\n",
      "28709/28709 [==============================] - 1613s 56ms/step - loss: 0.0808 - accuracy: 0.9742 - val_loss: 2.6412 - val_accuracy: 0.5469\n",
      "Epoch 29/30\n",
      "28709/28709 [==============================] - 1967s 69ms/step - loss: 0.0830 - accuracy: 0.9716 - val_loss: 2.5450 - val_accuracy: 0.5879\n",
      "Epoch 30/30\n",
      "28709/28709 [==============================] - 1554s 54ms/step - loss: 0.0740 - accuracy: 0.9772 - val_loss: 3.0797 - val_accuracy: 0.5210\n"
     ]
    },
    {
     "data": {
      "text/plain": [
       "<keras.callbacks.callbacks.History at 0x19a80e71f08>"
      ]
     },
     "execution_count": 19,
     "metadata": {},
     "output_type": "execute_result"
    }
   ],
   "source": [
    "model.fit(X_train, y_train, batch_size=32, epochs=30,verbose=1,validation_data=(X_test, y_test))"
   ]
  },
  {
   "cell_type": "code",
   "execution_count": 20,
   "metadata": {},
   "outputs": [
    {
     "name": "stdout",
     "output_type": "stream",
     "text": [
      "3589/3589 [==============================] - 5s 1ms/step\n",
      "[3.079720496865626, 0.5210365056991577]\n"
     ]
    }
   ],
   "source": [
    "loss_and_metrics = model.evaluate(X_test,y_test)\n",
    "print(loss_and_metrics)"
   ]
  },
  {
   "cell_type": "code",
   "execution_count": 22,
   "metadata": {},
   "outputs": [
    {
     "name": "stdout",
     "output_type": "stream",
     "text": [
      "Saved model to disk\n"
     ]
    }
   ],
   "source": [
    "model_json = model.to_json()\n",
    "with open(\"model.json\", \"w\") as json_file:\n",
    "  json_file.write(model_json)\n",
    "  model.save_weights(\"model.h5\")\n",
    "print(\"Saved model to disk\")"
   ]
  },
  {
   "cell_type": "code",
   "execution_count": null,
   "metadata": {},
   "outputs": [],
   "source": []
  }
 ],
 "metadata": {
  "kernelspec": {
   "display_name": "Python 3",
   "language": "python",
   "name": "python3"
  },
  "language_info": {
   "codemirror_mode": {
    "name": "ipython",
    "version": 3
   },
   "file_extension": ".py",
   "mimetype": "text/x-python",
   "name": "python",
   "nbconvert_exporter": "python",
   "pygments_lexer": "ipython3",
   "version": "3.7.4"
  }
 },
 "nbformat": 4,
 "nbformat_minor": 2
}
